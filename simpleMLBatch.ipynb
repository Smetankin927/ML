{
  "nbformat": 4,
  "nbformat_minor": 0,
  "metadata": {
    "colab": {
      "provenance": []
    },
    "kernelspec": {
      "name": "python3",
      "display_name": "Python 3"
    },
    "language_info": {
      "name": "python"
    }
  },
  "cells": [
    {
      "cell_type": "code",
      "execution_count": 1,
      "metadata": {
        "id": "TRLMSmpZEg2k"
      },
      "outputs": [],
      "source": [
        "import numpy as np"
      ]
    },
    {
      "cell_type": "code",
      "source": [
        "np.random.seed(42)"
      ],
      "metadata": {
        "id": "DdsrbVCZdvkP"
      },
      "execution_count": 2,
      "outputs": []
    },
    {
      "cell_type": "code",
      "source": [
        "class Linear:\n",
        "  def __init__(self, in_dim, out_dim) -> None:\n",
        "    self.in_dim = in_dim\n",
        "    self.out_dim = out_dim\n",
        "    self.W = np.random.uniform(-1,1,(self.out_dim, self.in_dim))\n",
        "    self.b = np.zeros(self.out_dim)\n",
        "    self.gradW = 0\n",
        "    self.gradb = 0\n",
        "\n",
        "  def forward(self, x_in) -> np.array:\n",
        "    x_out = x_in @ self.W.T +self.b\n",
        "    self._in = x_in\n",
        "    return x_out\n",
        "\n",
        "  def calc_dLdx(self, gradIn):\n",
        "    self.gradX = gradIn @ self.W\n",
        "    return self.gradX\n",
        "\n",
        "  def calc_dw_db(self, gradIn):\n",
        "    self.gradW = gradIn.T @ self._in\n",
        "    # self.gradW = gradIn[np.newaxis].T @ self._in[np.newaxis] # for batch = 1\n",
        "    self.gradb = gradIn @ np.ones((self.out_dim,self.out_dim))\n",
        "    # return self.gradW, self.gradb, self.W\n",
        "\n",
        "  def zerograd(self):\n",
        "    self.gradW = np.zeros(self.gradW.shape)\n",
        "    self.gradb = np.zeros(self.gradb.shape)\n",
        "\n",
        "  def updateWeights(self, lr):\n",
        "    self.W = self.W - lr * self.gradW\n",
        "    self.gradb = self.gradb - lr * self.gradb\n",
        "\n",
        "  def backward(self, gradIn, lr):\n",
        "    self.calc_dw_db(gradIn)\n",
        "    self.updateWeights(lr)\n",
        "    return self.calc_dLdx(gradIn)\n"
      ],
      "metadata": {
        "id": "KVFpe0PCEktE"
      },
      "execution_count": 111,
      "outputs": []
    },
    {
      "cell_type": "code",
      "source": [
        "# X = np.array([[1,2],\n",
        "#               [3,4],\n",
        "#               [5,6]])\n",
        "\n",
        "# a = Linear(2,3)\n",
        "\n",
        "# a.forward(X) + np.array([1,2,4])"
      ],
      "metadata": {
        "id": "OuoxyxK80tua"
      },
      "execution_count": 112,
      "outputs": []
    },
    {
      "cell_type": "code",
      "source": [
        "class Tanh:\n",
        "  def __init__(self) -> None:\n",
        "    pass\n",
        "\n",
        "  def forward(self, x_in):\n",
        "    self._in = x_in\n",
        "    return np.tanh(x_in)\n",
        "\n",
        "  def backward(self, gradIn, lr):\n",
        "    dth = 1 - np.tanh(self._in)**2\n",
        "    return np.multiply(gradIn, dth)"
      ],
      "metadata": {
        "id": "wKrOTmP9VTJU"
      },
      "execution_count": 113,
      "outputs": []
    },
    {
      "cell_type": "code",
      "source": [
        "class Loss: #RMSE\n",
        "  def __init__(self) -> None:\n",
        "    pass\n",
        "\n",
        "  def forward(self, res, y):\n",
        "    q2 = (res - y)**2\n",
        "    q2 = np.sum(q2)\n",
        "    q2 = q2/len(y)\n",
        "    q2 = np.sqrt(q2)\n",
        "    self.loss = q2\n",
        "    self.len = len(y)\n",
        "    return self.loss\n",
        "\n",
        "  def backward(self, res, y):\n",
        "    dloss = (res-y) /( self.len * self.loss)\n",
        "    return dloss"
      ],
      "metadata": {
        "id": "a2LouuIIa1x4"
      },
      "execution_count": 114,
      "outputs": []
    },
    {
      "cell_type": "code",
      "source": [
        "class Loss_mean:\n",
        "  def __init__(self) -> None:\n",
        "    pass\n",
        "\n",
        "  def forward(self, res, y):\n",
        "    # q2 = np.mean((res - y)**2)\n",
        "    q2 = (res - y)**2\n",
        "    self.len = len(q2)\n",
        "    q2 = np.sum(q2)\n",
        "    q2 = q2/self.len\n",
        "    self.loss = q2\n",
        "    return self.loss\n",
        "\n",
        "  def backward(self, res, y):\n",
        "    dloss = 2*(res-y) /self.len\n",
        "    return dloss\n",
        "\n",
        "\n",
        "# class Loss_mean:\n",
        "#   def __init__(self) -> None:\n",
        "#     pass\n",
        "\n",
        "#   def forward(self, res, y):\n",
        "#     # q2 = np.mean((res - y)**2)\n",
        "#     q2 = np.mean((res - y)**2)\n",
        "#     self.len = len(y)\n",
        "#     # q2 = np.sum(q2)\n",
        "#     # q2 = q2/self.len\n",
        "#     self.loss = q2\n",
        "#     return self.loss\n",
        "\n",
        "#   def backward(self, res, y):\n",
        "#     dloss = 2*(res-y) /self.len\n",
        "#     return dloss"
      ],
      "metadata": {
        "id": "p0ohTaDWaanB"
      },
      "execution_count": 115,
      "outputs": []
    },
    {
      "cell_type": "code",
      "source": [
        "a1 = Linear(2,3)\n",
        "t1 = Tanh()\n",
        "a2 = Linear(3,16)\n",
        "t2 = Tanh()\n",
        "a3 = Linear(16,3)\n",
        "t3 = Tanh()\n",
        "a4 = Linear(3,2)\n",
        "t4 = Tanh()\n",
        "loss = Loss_mean()"
      ],
      "metadata": {
        "id": "Yi45n3QKVghF"
      },
      "execution_count": 145,
      "outputs": []
    },
    {
      "cell_type": "code",
      "source": [
        "model = np.array([a1,t1,a2,t2,a3,t3,a4, t4])"
      ],
      "metadata": {
        "id": "wJmAAqvMHQ7R"
      },
      "execution_count": 146,
      "outputs": []
    },
    {
      "cell_type": "code",
      "source": [
        "# xin= np.array([[1,2],   #batch = 3\n",
        "#               [3,4],\n",
        "#               [5,6]])\n",
        "# for layer in model:\n",
        "#     xin = layer.forward(xin)"
      ],
      "metadata": {
        "id": "rIclvgqg5QwN"
      },
      "execution_count": 147,
      "outputs": []
    },
    {
      "cell_type": "code",
      "source": [
        "# Y = np.array([[1,1],\n",
        "#               [3,1],\n",
        "#               [5,6]])\n",
        "\n",
        "# loss.forward(xin, Y) ## Число!!!!"
      ],
      "metadata": {
        "id": "aOaz0iTl5gHt"
      },
      "execution_count": 148,
      "outputs": []
    },
    {
      "cell_type": "code",
      "source": [
        "# bl = loss.backward(xin, Y)\n",
        "# bl  # matrix"
      ],
      "metadata": {
        "id": "OYOFIDCk52xz"
      },
      "execution_count": 162,
      "outputs": []
    },
    {
      "cell_type": "code",
      "source": [],
      "metadata": {
        "id": "WZ_FOnW0Cfox"
      },
      "execution_count": 162,
      "outputs": []
    },
    {
      "cell_type": "code",
      "source": [
        "X = np.random.uniform(0, np.pi, (1000,2))\n",
        "batch_size = 4\n",
        "xin = X.reshape(X.shape[0]//batch_size, batch_size, 2)\n",
        "X_train = xin[:len(xin)//2]\n",
        "X_test = xin[len(xin)//2:]"
      ],
      "metadata": {
        "id": "Ae-14DdALfQ1"
      },
      "execution_count": 163,
      "outputs": []
    },
    {
      "cell_type": "code",
      "source": [
        "#X.shape, X[:4], xin[0], xin[1], xin.shape, xin[:,:,0].shape"
      ],
      "metadata": {
        "id": "krcAwJ1cDsiB"
      },
      "execution_count": 164,
      "outputs": []
    },
    {
      "cell_type": "code",
      "source": [
        "# X[:,0] -- first column\n",
        "# X[:,1] -- second column\n",
        "# X\n",
        "# xin[:,:,0][0]#   xin[:,:,0]  это оно"
      ],
      "metadata": {
        "id": "G2wBSpTbFQ4D"
      },
      "execution_count": 165,
      "outputs": []
    },
    {
      "cell_type": "code",
      "source": [
        "# xin[:,:,0].flatten()#reshape(-1)"
      ],
      "metadata": {
        "id": "cUAkEqOkHbC0"
      },
      "execution_count": 166,
      "outputs": []
    },
    {
      "cell_type": "code",
      "source": [
        "Ysin = np.sin(xin[:,:,0].flatten())\n",
        "Ycos = np.cos(xin[:,:,1].flatten())\n",
        "Y = np.vstack((Ysin, Ycos)).T\n",
        "Y_b = Y.reshape(xin.shape)\n",
        "# Y_b[0], Y_b.shape, np.sin(xin[0]), np.cos(xin[0])\n",
        "Y_train = Y_b[:len(Y_b)//2]\n",
        "Y_test = Y_b[len(Y_b)//2:]"
      ],
      "metadata": {
        "id": "Xy-tP59eFXHh"
      },
      "execution_count": 167,
      "outputs": []
    },
    {
      "cell_type": "code",
      "source": [
        "lr = 10e-2\n",
        "lr"
      ],
      "metadata": {
        "colab": {
          "base_uri": "https://localhost:8080/"
        },
        "id": "NBKcZCeoHqr_",
        "outputId": "6eaa2a48-1979-4e5b-f06c-2bffc61a587e"
      },
      "execution_count": 168,
      "outputs": [
        {
          "output_type": "execute_result",
          "data": {
            "text/plain": [
              "0.1"
            ]
          },
          "metadata": {},
          "execution_count": 168
        }
      ]
    },
    {
      "cell_type": "code",
      "source": [
        "lr = 10e-2\n",
        "loses = []\n",
        "for epoch in range(100):\n",
        "  for i, xin in enumerate(X_train):\n",
        "    #forward\n",
        "    for layer in model:\n",
        "      xin = layer.forward(xin)\n",
        "    # compute loss\n",
        "    loses.append(loss.forward(xin, Y_train[i]))\n",
        "    #compute loss backward\n",
        "    gradIn = loss.backward(xin, Y_train[i])\n",
        "    # compute other backwards\n",
        "    for layer in np.flip(model):\n",
        "      gradIn = layer.backward(gradIn, lr)\n",
        "\n",
        "\n"
      ],
      "metadata": {
        "id": "ZlblqiFbEwTi"
      },
      "execution_count": 175,
      "outputs": []
    },
    {
      "cell_type": "code",
      "source": [
        "loses_tst = []\n",
        "x_pred = []\n",
        "for i, xin in enumerate(X_test):\n",
        "  #forward\n",
        "  for layer in model:\n",
        "    xin = layer.forward(xin)\n",
        "  # print(xin)\n",
        "  x_pred.append(xin)\n",
        "  # compute loss\n",
        "  loses_tst.append(loss.forward(xin, Y_test[i]))"
      ],
      "metadata": {
        "id": "OoepfFeYEwW3"
      },
      "execution_count": 176,
      "outputs": []
    },
    {
      "cell_type": "code",
      "source": [
        "import matplotlib.pyplot as plt"
      ],
      "metadata": {
        "id": "juUruX0lEwyR"
      },
      "execution_count": 177,
      "outputs": []
    },
    {
      "cell_type": "code",
      "source": [
        "# plt.scatter(X_test[:,0],Y_test[:,0])\n",
        "plt.plot(loses)"
      ],
      "metadata": {
        "colab": {
          "base_uri": "https://localhost:8080/",
          "height": 447
        },
        "id": "LWH0jJtrXGie",
        "outputId": "20f810ec-7354-480b-ce51-2bacc377d4a1"
      },
      "execution_count": 178,
      "outputs": [
        {
          "output_type": "execute_result",
          "data": {
            "text/plain": [
              "[<matplotlib.lines.Line2D at 0x79c15fe14750>]"
            ]
          },
          "metadata": {},
          "execution_count": 178
        },
        {
          "output_type": "display_data",
          "data": {
            "text/plain": [
              "<Figure size 640x480 with 1 Axes>"
            ],
            "image/png": "[encoded data removed]"
          },
          "metadata": {}
        }
      ]
    },
    {
      "cell_type": "code",
      "source": [
        "plt.scatter(X_test[:,:,0].flatten(), np.array(x_pred)[:,:,0].flatten())"
      ],
      "metadata": {
        "colab": {
          "base_uri": "https://localhost:8080/",
          "height": 447
        },
        "id": "J2TOuYvrWT07",
        "outputId": "e185b663-7213-48cf-e11f-6a3d6f8ef125"
      },
      "execution_count": 179,
      "outputs": [
        {
          "output_type": "execute_result",
          "data": {
            "text/plain": [
              "<matplotlib.collections.PathCollection at 0x79c15f468410>"
            ]
          },
          "metadata": {},
          "execution_count": 179
        },
        {
          "output_type": "display_data",
          "data": {
            "text/plain": [
              "<Figure size 640x480 with 1 Axes>"
            ],
            "image/png": "[encoded data removed]"
          },
          "metadata": {}
        }
      ]
    },
    {
      "cell_type": "code",
      "source": [
        "plt.scatter(X_test[:,:,1].flatten(), np.array(x_pred)[:,:,1].flatten())"
      ],
      "metadata": {
        "colab": {
          "base_uri": "https://localhost:8080/",
          "height": 447
        },
        "id": "aunrSaMFQn61",
        "outputId": "418011b5-d6e5-4885-f2b9-c84f28d84203"
      },
      "execution_count": 180,
      "outputs": [
        {
          "output_type": "execute_result",
          "data": {
            "text/plain": [
              "<matplotlib.collections.PathCollection at 0x79c15f07d610>"
            ]
          },
          "metadata": {},
          "execution_count": 180
        },
        {
          "output_type": "display_data",
          "data": {
            "text/plain": [
              "<Figure size 640x480 with 1 Axes>"
            ],
            "image/png": "[encoded data removed]"
          },
          "metadata": {}
        }
      ]
    },
    {
      "cell_type": "code",
      "source": [
        "for x in X_test[:1]:\n",
        "  print(x)"
      ],
      "metadata": {
        "id": "xac9Wg5fUEqP",
        "colab": {
          "base_uri": "https://localhost:8080/"
        },
        "outputId": "49b377c6-0f33-4a69-dbe1-4f922e30a44a"
      },
      "execution_count": 181,
      "outputs": [
        {
          "output_type": "stream",
          "name": "stdout",
          "text": [
            "[[1.63281918 2.14192785]\n",
            " [1.41208924 0.75923255]\n",
            " [0.00445547 1.75917925]\n",
            " [1.85559812 3.05378189]]\n"
          ]
        }
      ]
    },
    {
      "cell_type": "code",
      "source": [
        "np.sin(X_test[0]), np.cos(X_test[0]), Y_test[0]"
      ],
      "metadata": {
        "id": "DZF8mD8mUEs8",
        "colab": {
          "base_uri": "https://localhost:8080/"
        },
        "outputId": "9e79a4d6-ac98-4a67-93e1-b93d3f36f70d"
      },
      "execution_count": 182,
      "outputs": [
        {
          "output_type": "execute_result",
          "data": {
            "text/plain": [
              "(array([[0.9980772 , 0.84128983],\n",
              "        [0.98743244, 0.68836497],\n",
              "        [0.00445546, 0.98230835],\n",
              "        [0.95971736, 0.08769796]]),\n",
              " array([[-0.06198309, -0.54058434],\n",
              "        [ 0.15804167,  0.72536451],\n",
              "        [ 0.99999007, -0.18727067],\n",
              "        [-0.28096724, -0.99614711]]),\n",
              " array([[ 0.9980772 , -0.54058434],\n",
              "        [ 0.98743244,  0.72536451],\n",
              "        [ 0.00445546, -0.18727067],\n",
              "        [ 0.95971736, -0.99614711]]))"
            ]
          },
          "metadata": {},
          "execution_count": 182
        }
      ]
    },
    {
      "cell_type": "code",
      "source": [],
      "metadata": {
        "id": "lQ3ttwYOUEyv"
      },
      "execution_count": null,
      "outputs": []
    },
    {
      "cell_type": "code",
      "source": [],
      "metadata": {
        "id": "0cpdpBcvUE1s"
      },
      "execution_count": null,
      "outputs": []
    },
    {
      "cell_type": "code",
      "source": [],
      "metadata": {
        "id": "X6bzQpogUE4m"
      },
      "execution_count": null,
      "outputs": []
    },
    {
      "cell_type": "code",
      "source": [],
      "metadata": {
        "id": "bpILVYOfUE7R"
      },
      "execution_count": null,
      "outputs": []
    }
  ]
}